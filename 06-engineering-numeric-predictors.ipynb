{
 "cells": [
  {
   "cell_type": "markdown",
   "metadata": {},
   "source": []
  },
  {
   "cell_type": "code",
   "execution_count": 1,
   "metadata": {},
   "outputs": [
    {
     "name": "stderr",
     "output_type": "stream",
     "text": [
      "/Users/nikolashahpazov/.pyenv/versions/3.9.2/lib/python3.9/site-packages/geopandas/_compat.py:106: UserWarning: The Shapely GEOS version (3.8.0-CAPI-1.13.1 ) is incompatible with the GEOS version PyGEOS was compiled with (3.9.1-CAPI-1.14.2). Conversions between both will be slow.\n"
     ]
    }
   ],
   "source": [
    "import pandas as pd\n",
    "import numpy as np\n",
    "from matplotlib import pyplot as plt\n",
    "from matplotlib import cm\n",
    "from datetime import timedelta\n",
    "\n",
    "\n",
    "from sklearn.preprocessing import PowerTransformer\n",
    "\n",
    "# ggplot layers\n",
    "from plotnine import (ggplot, aes, geom_violin, coord_flip, geom_tile, geom_point, geom_segment,\n",
    "                      geom_boxplot, theme, element_blank, geom_path, geom_hline, xlim,\n",
    "                      scale_fill_manual, geom_errorbar, geom_line, geom_bar, scale_x_log10,\n",
    "                      scale_color_manual, geom_histogram, ggtitle, geom_density, geom_jitter,\n",
    "                      facet_wrap,  xlab, ylab, scale_x_discrete)\n",
    "\n",
    "# for setting plot size mainly\n",
    "import plotnine.options as ggplot_options\n",
    "\n",
    "%matplotlib inline"
   ]
  },
  {
   "cell_type": "markdown",
   "metadata": {},
   "source": [
    "An important transformation to an individual variable is for a variable that has values bounded between zero and one, such as proportions. The problem with modeling this type of outcome is that model predictions might may not be guaranteed to be within the same boundaries. For data between zero and one, the logit transformation could be used. If π is the variable, the logit transformations is\n",
    "\n",
    "$$\n",
    "logit(\\pi) = log(\\frac{\\pi}{1-\\pi})\n",
    "$$\n",
    "\n",
    "This transformation changes the scale from values between zero and one to values between negative and positive infinity."
   ]
  },
  {
   "cell_type": "code",
   "execution_count": 24,
   "metadata": {},
   "outputs": [
    {
     "data": {
      "image/png": "[encoded data removed]",
      "text/plain": [
       "<Figure size 640x480 with 1 Axes>"
      ]
     },
     "metadata": {},
     "output_type": "display_data"
    },
    {
     "data": {
      "text/plain": [
       "<ggplot: (321761898)>"
      ]
     },
     "execution_count": 24,
     "metadata": {},
     "output_type": "execute_result"
    }
   ],
   "source": [
    "df_ = pd.DataFrame({'prop': np.random.uniform(0, 1, 1620)})\n",
    "from scipy.special import logit\n",
    "\n",
    "df = df_.assign(prop=lambda df: logit(df['prop']))\n",
    "ggplot(df) + aes(x='prop') + geom_density(fill=\"#336699\")"
   ]
  },
  {
   "cell_type": "markdown",
   "metadata": {},
   "source": [
    "### Common Numerical Transformations\n",
    "\n",
    "* Box-Cox Power Transformation when the variable is positive\n",
    "* Yeo-Johnson Power Transformation when the variable can be negative as well\n",
    "* Centering and Scaling\n",
    "* $logit(\\pi)$ where $\\pi$ is a proportion\n",
    "* $arcsine(\\sqrt{\\pi})$ where $\\pi$ is a proportion\n",
    "* Range Scaling\n",
    "* Data Smoothing for time series, \n",
    "    - running mean\n",
    "    - running median (when having outliers)"
   ]
  },
  {
   "cell_type": "code",
   "execution_count": 31,
   "metadata": {},
   "outputs": [
    {
     "data": {
      "text/plain": [
       "1.0"
      ]
     },
     "execution_count": 31,
     "metadata": {},
     "output_type": "execute_result"
    }
   ],
   "source": [
    "x = np.random.normal(12, 7, 1000)\n",
    "y = (x - np.min(x)) / (np.max(x) - np.min(x))\n",
    "\n",
    "np.max(y)"
   ]
  },
  {
   "cell_type": "markdown",
   "metadata": {},
   "source": [
    "These transformations are mostly innocuous and are typically needed when the model requires the predictors to be in common units. For example, when the distance or dot products between predictors are used, such as \n",
    "* K-nearest neighbors\n",
    "* support vector machines) or \n",
    "* when the variables are required to be a a common scale in order to apply a penalty (e.g., the lasso or ridge regression)\n"
   ]
  },
  {
   "cell_type": "markdown",
   "metadata": {},
   "source": [
    "### **1:Many Transformations**"
   ]
  },
  {
   "cell_type": "markdown",
   "metadata": {},
   "source": [
    "### **Many:Many Transformations**\n",
    "\n",
    "When creating new features from multiple predictors, there is a possibility of correcting a variety of issues such as \n",
    "* outliers\n",
    "* collinearity\n",
    "* reduce the dimensionality\n",
    "\n",
    "### **Linear Projection Methods**\n",
    "\n",
    "- Principal Component Analysis (**PCA**)\n",
    "- Kernel Principal Component Analysis (**KPCA**)\n",
    "- Independent Component Analysis (**ICA**)\n",
    "- Non-negative Matrix Factorization (**NNMF**)\n",
    "- Partial Least Squares (**PLS**)\n",
    "- Multidimensional Scaling (**MDS**)\n",
    "\n"
   ]
  }
 ],
 "metadata": {
  "interpreter": {
   "hash": "48d3ba6fd8913976b5b8240356e2a25bc7de293def346b194c53738ff49bc619"
  },
  "kernelspec": {
   "display_name": "Python 3.9.2 64-bit ('3.9.2': pyenv)",
   "name": "python3"
  },
  "language_info": {
   "codemirror_mode": {
    "name": "ipython",
    "version": 3
   },
   "file_extension": ".py",
   "mimetype": "text/x-python",
   "name": "python",
   "nbconvert_exporter": "python",
   "pygments_lexer": "ipython3",
   "version": "3.9.2"
  },
  "orig_nbformat": 4
 },
 "nbformat": 4,
 "nbformat_minor": 2
}
