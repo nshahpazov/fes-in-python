{
 "cells": [
  {
   "cell_type": "markdown",
   "source": [
    "## Introduction to Decision Tree Algorithm\n",
    "\n",
    "\n",
    "1. Place the best attribute of the dataset at the root of the tree.\n",
    "2. Split the training set into subsets. Subsets should be made in such a way that each subset contains data with the same value for an attribute.\n",
    "3. Repeat step 1 and step 2 on each subset until you find leaf nodes in all the branches of the tree.\n",
    "\n",
    "### ***Assumptions while creating Decision Tree***\n",
    "\n",
    "* At the beginning, the whole training set is considered as the root.\n",
    "* Feature values are preferred to be categorical. If the values are continuous then they are discretized prior to building the model.\n",
    "* Records are distributed recursively on the basis of attribute values.\n",
    "* Order to placing attributes as root or internal node of the tree is done by using some statistical approach.\n"
   ],
   "metadata": {}
  }
 ],
 "metadata": {
  "orig_nbformat": 4,
  "language_info": {
   "name": "python",
   "version": "3.9.2",
   "mimetype": "text/x-python",
   "codemirror_mode": {
    "name": "ipython",
    "version": 3
   },
   "pygments_lexer": "ipython3",
   "nbconvert_exporter": "python",
   "file_extension": ".py"
  },
  "kernelspec": {
   "name": "python3",
   "display_name": "Python 3.9.2 64-bit ('3.9.2': pyenv)"
  },
  "interpreter": {
   "hash": "1f638f2ca7539ec28c41b7df36d6ad28915baab15e9a88f50e3323c925045fd2"
  }
 },
 "nbformat": 4,
 "nbformat_minor": 2
}